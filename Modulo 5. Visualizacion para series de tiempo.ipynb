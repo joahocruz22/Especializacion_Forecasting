{
 "cells": [
  {
   "attachments": {},
   "cell_type": "markdown",
   "metadata": {},
   "source": [
    "# Cursos de Series de tiempo con *Machine Learning*\n",
    "## Modulo 5. Visualizacion para Series de tiempo \n",
    "                        Elaborado por: Naren Castellon"
   ]
  },
  {
   "attachments": {},
   "cell_type": "markdown",
   "metadata": {},
   "source": [
    "# Contenido\n",
    "\n",
    "1. Introducción a los Gráficos de Visualización para Series de Tiempo\n",
    "2. Importancia de los Gráficos de Series de Tiempo\n",
    "3. Ventajas y Desventajas\n",
    "4. Herramientas de Visualización\n",
    "5. Tipos Comunes de Gráficos para Series de Tiempo"
   ]
  },
  {
   "attachments": {},
   "cell_type": "markdown",
   "metadata": {},
   "source": [
    "# 1. Introducción a los Gráficos de Visualización para Series de Tiempo\n",
    "La visualización de series de tiempo es una herramienta fundamental para el análisis y la comprensión de datos que se recogen y observan a lo largo del tiempo. Los gráficos de series de tiempo no solo nos permiten detectar patrones, tendencias y estacionalidades, sino que también nos ayudan a identificar anomalías y comportamientos inusuales en los datos.\n",
    "\n",
    "La visualización de series de tiempo es una herramienta poderosa y esencial en el análisis de datos temporales. Permite a los analistas y científicos de datos explorar, comprender y comunicar de manera efectiva las tendencias y patrones ocultos en los datos. El uso de gráficos adecuados y herramientas de visualización puede mejorar significativamente la toma de decisiones basada en datos."
   ]
  },
  {
   "attachments": {},
   "cell_type": "markdown",
   "metadata": {},
   "source": [
    "# 2. Importancia de los Gráficos de Series de Tiempo\n",
    "\n",
    "1. Detección de Tendencias:\n",
    "\n",
    "- Los gráficos de series de tiempo son esenciales para identificar tendencias a largo plazo en los datos, ya sean crecientes, decrecientes o estables.\n",
    "\n",
    "2. Identificación de Estacionalidades:\n",
    "\n",
    "- Permiten visualizar patrones estacionales, que son fluctuaciones periódicas y predecibles dentro de la serie temporal.\n",
    "\n",
    "3. Análisis de Volatilidad:\n",
    "\n",
    "- Ayudan a analizar la volatilidad y las variaciones en los datos a lo largo del tiempo, proporcionando una mejor comprensión de su comportamiento.\n",
    "\n",
    "4. Detección de Anomalías:\n",
    "\n",
    "- Facilitan la identificación de anomalías o eventos atípicos que pueden requerir una investigación más detallada."
   ]
  },
  {
   "attachments": {},
   "cell_type": "markdown",
   "metadata": {},
   "source": [
    "# 3. Ventajas y Desventajas\n",
    "\n",
    "1.  Ventajas\n",
    "- `Visualización Clara:` Proporciona una representación clara y sencilla de los datos a lo largo del tiempo.\n",
    "\n",
    "- `Fácil Detección de Anomalías:` Permite identificar rápidamente valores atípicos y anomalías.\n",
    "\n",
    "- `Compatibilidad:` Es compatible con diversas herramientas de análisis y visualización de datos.\n",
    "\n",
    "- `Interactividad:` Puede mejorarse con interactividad en herramientas como Plotly para explorar datos más detalladamente.\n",
    "\n",
    "2.  Desventajas\n",
    "\n",
    "- `Superposición de Datos:` Al agregar muchas series en el mismo gráfico, puede volverse confuso y difícil de interpretar.\n",
    "\n",
    "- `Datos Faltantes:` No maneja bien los datos faltantes, ya que las líneas pueden interrumpirse de manera abrupta.\n",
    "\n",
    "- `Escalabilidad:` No es ideal para datasets muy grandes debido a la sobrecarga visual."
   ]
  },
  {
   "attachments": {},
   "cell_type": "markdown",
   "metadata": {},
   "source": [
    "# 4. Herramientas de Visualización\n",
    "\n",
    "Existen varias herramientas y bibliotecas de visualización que facilitan la creación de gráficos de series de tiempo, tales como:\n",
    "\n",
    "- `Matplotlib:` Una de las bibliotecas más utilizadas en Python para crear gráficos estáticos, animados e interactivos.\n",
    "\n",
    "- `Seaborn:` Basada en Matplotlib, proporciona una interfaz de alto nivel para la creación de gráficos estadísticos atractivos y informativos.\n",
    "\n",
    "- `Plotly:` Una biblioteca de gráficos interactivos que permite la creación de visualizaciones dinámicas y altamente personalizables.\n",
    "\n",
    "- `Pandas:` Proporciona capacidades de visualización integradas para series de tiempo, facilitando la creación rápida de gráficos a partir de DataFrames.\n",
    "\n",
    "- `Altair:` Una biblioteca declarativa para crear gráficos interactivos y basados en estadísticas.\n",
    "\n"
   ]
  },
  {
   "attachments": {},
   "cell_type": "markdown",
   "metadata": {},
   "source": [
    "# 5. Tipos de Gráficos para Series de Tiempo\n",
    "\n",
    "1. Gráficos de Línea:\n",
    "\n",
    "- El gráfico de línea es la representación más básica y común para series de tiempo. Muestra los valores de los datos a lo largo del tiempo mediante una línea continua, facilitando la visualización de tendencias y patrones.\n",
    "\n",
    "2. Gráficos de Área:\n",
    "\n",
    "- Similar al gráfico de línea, pero el área bajo la línea está rellena. Este tipo de gráfico se utiliza para enfatizar el volumen o la magnitud de los datos.\n",
    "\n",
    "3. Gráficos de Barras:\n",
    "\n",
    "- Utilizados para comparar valores en diferentes intervalos de tiempo. Pueden ser verticales u horizontales y son útiles para mostrar cambios discretos.\n",
    "\n",
    "4. Gráficos de Dispersión (Scatter Plots):\n",
    "\n",
    "- Muestran la relación entre dos variables en el tiempo mediante puntos individuales. Son útiles para detectar correlaciones y patrones específicos.\n",
    "\n",
    "5. Gráficos de Calor (Heatmaps):\n",
    "\n",
    "- Representan datos en una cuadrícula de colores, donde cada celda corresponde a un intervalo de tiempo y un valor específico. Son excelentes para visualizar patrones estacionales y comparar múltiples series de tiempo.\n",
    "\n",
    "6. Gráficos de Descomposición:\n",
    "\n",
    "Utilizados para descomponer una serie de tiempo en sus componentes básicos: tendencia, estacionalidad y residuo. Facilitan el análisis detallado de cada componente."
   ]
  },
  {
   "attachments": {},
   "cell_type": "markdown",
   "metadata": {},
   "source": [
    "#  Gráfico de Línea para Series de Tiempo\n",
    "\n",
    "El gráfico de línea es una herramienta valiosa y ampliamente utilizada en el análisis de series temporales debido a su capacidad para visualizar tendencias a lo largo del tiempo de manera clara y concisa. Sin embargo, es importante ser consciente de sus limitaciones, especialmente en situaciones donde se requiere una representación más detallada de la variabilidad de los datos o la identificación de patrones complejos. Complementar el análisis con otros tipos de gráficos y técnicas puede ayudar a obtener una comprensión más completa de las series temporales en estudio.\n",
    "\n",
    "#### Importancia del Gráfico de Línea para Series de Tiempo\n",
    "\n",
    "El gráfico de línea es una de las herramientas visuales más utilizadas en el análisis de series temporales debido a su capacidad para representar de manera clara la evolución de una variable a lo largo del tiempo. Al trazar los puntos de datos y conectarlos con líneas suaves, este tipo de gráfico permite visualizar tendencias, patrones cíclicos y cambios en los datos temporales de forma intuitiva.\n",
    "\n",
    "#### Ventajas del Gráfico de Línea para Series de Tiempo\n",
    "\n",
    "1. **Visualización Clara de Tendencias:** El gráfico de línea facilita la identificación de tendencias a lo largo del tiempo, lo que ayuda a comprender cómo la variable de interés ha evolucionado.\n",
    "\n",
    "2. **Comparación Directa:** Permite comparar múltiples series temporales en un solo gráfico, lo que facilita la identificación de relaciones y disparidades entre diferentes variables.\n",
    "\n",
    "3. **Comunicación Efectiva:** Es una herramienta efectiva para comunicar hallazgos y resultados a audiencias no técnicas, ya que la representación visual es fácil de interpretar.\n",
    "\n",
    "4. **Facilidad de Interpretación:** La simplicidad del gráfico de línea lo convierte en una herramienta accesible para analistas de datos de todos los niveles de experiencia.\n",
    "\n",
    "#### Desventajas del Gráfico de Línea para Series de Tiempo\n",
    "\n",
    "1. **Ocultamiento de Detalles:** En series temporales con fluctuaciones extremas o datos altamente volátiles, el gráfico de línea puede ocultar detalles importantes debido a la suavización inherente de las líneas.\n",
    "\n",
    "2. **Sensibilidad a Outliers:** Los valores atípicos pueden distorsionar la representación visual en un gráfico de línea, lo que dificulta la interpretación precisa de la tendencia general.\n",
    "\n",
    "3. **Limitaciones en la Identificación de Patrones Complejos:** Para series temporales con patrones complejos, como estacionalidad irregular o tendencias no lineales, el gráfico de línea puede no ser la mejor opción para capturar toda la variabilidad de los datos."
   ]
  },
  {
   "attachments": {},
   "cell_type": "markdown",
   "metadata": {},
   "source": [
    "## Cargamos las librerias"
   ]
  },
  {
   "cell_type": "code",
   "execution_count": null,
   "metadata": {},
   "outputs": [],
   "source": [
    "# Manejo y procesamiento de Datos\n",
    "# ==============================================================================\n",
    "import pandas as pd\n",
    "import numpy as np\n",
    "\n",
    "# Plot - Graficas\n",
    "# ==============================================================================\n",
    "import matplotlib.pyplot as plt\n",
    "import seaborn as sns\n",
    "import plotly.graph_objs as go\n",
    "import plotly.express as px\n",
    "\n",
    "# Ocultar warnings\n",
    "# ==============================================================================\n",
    "import warnings\n",
    "warnings.filterwarnings(\"ignore\")"
   ]
  },
  {
   "attachments": {},
   "cell_type": "markdown",
   "metadata": {},
   "source": [
    "## Cargamos los datos"
   ]
  },
  {
   "cell_type": "code",
   "execution_count": null,
   "metadata": {},
   "outputs": [],
   "source": [
    "import pandas as pd\n",
    "\n",
    "df = pd.read_csv(\"https://raw.githubusercontent.com/narencastellon/Serie-de-tiempo-con-Machine-Learning/refs/heads/main/Data/Market_basket.csv\",  parse_dates= [\"Date\"])"
   ]
  },
  {
   "cell_type": "code",
   "execution_count": null,
   "metadata": {},
   "outputs": [],
   "source": [
    "df.info()"
   ]
  },
  {
   "cell_type": "code",
   "execution_count": null,
   "metadata": {},
   "outputs": [],
   "source": [
    "TC = df.groupby(\"Date\")[\"Item\"].apply(lambda x: x[x==\"Tea\"].count()).rename(\"te_vendido\").to_frame()\n",
    "TC[\"cafe_vendido\"] = df.groupby(\"Date\")[\"Item\"].apply(lambda x: x[x==\"Coffee\"].count())\n",
    "TC"
   ]
  },
  {
   "cell_type": "code",
   "execution_count": null,
   "metadata": {},
   "outputs": [],
   "source": [
    "TC.info()"
   ]
  },
  {
   "cell_type": "code",
   "execution_count": null,
   "metadata": {},
   "outputs": [],
   "source": [
    "# Graficar\n",
    "plt.figure(figsize=(18, 6))\n",
    "plt.plot(TC.index, TC[\"te_vendido\"], label = 'Te')\n",
    "plt.plot(TC.index, TC[\"cafe_vendido\"], label = 'Cafe')\n",
    "plt.xlabel('Fecha')\n",
    "plt.ylabel('Ventas (unidades)')\n",
    "plt.title('Gráfico de Líneas: Cafe vs Te')\n",
    "plt.legend()\n",
    "plt.grid(True)\n",
    "plt.show();"
   ]
  },
  {
   "attachments": {},
   "cell_type": "markdown",
   "metadata": {},
   "source": [
    "- Plotly"
   ]
  },
  {
   "cell_type": "code",
   "execution_count": null,
   "metadata": {},
   "outputs": [],
   "source": [
    "# Crear el gráfico de líneas\n",
    "fig = go.Figure()\n",
    "\n",
    "fig.add_trace(go.Scatter(\n",
    "    x = TC.index, y = TC[\"cafe_vendido\"], mode='lines', name = 'Cafe',\n",
    "    line=dict(color='blue')\n",
    "))\n",
    "\n",
    "fig.add_trace(go.Scatter(\n",
    "    x = TC.index, y = TC[\"te_vendido\"], mode='lines', name = 'Te',\n",
    "    line=dict(color='green')\n",
    "))\n",
    "\n",
    "# Actualizar layout\n",
    "fig.update_layout(\n",
    "    title='Gráfico de Líneas: Cafe vs Te',\n",
    "    xaxis_title='Fecha',\n",
    "    yaxis_title='Ventas (unidades)',\n",
    "    showlegend=True\n",
    ")\n",
    "\n",
    "# Mostrar el gráfico\n",
    "fig.show()"
   ]
  },
  {
   "attachments": {},
   "cell_type": "markdown",
   "metadata": {},
   "source": [
    "#  Gráfico de Área en Series Temporales\n",
    "El gráfico de área es una variación del gráfico de líneas que rellena el área bajo la línea con un color o un patrón. Este tipo de gráfico es útil para representar la acumulación de valores a lo largo del tiempo y es especialmente efectivo para visualizar la proporción de una parte en relación al todo en series temporales.\n",
    "\n",
    "## Importancia\n",
    "- `Representación de Volúmenes:` Los gráficos de área son excelentes para mostrar cambios en volúmenes acumulados a lo largo del tiempo.\n",
    "\n",
    "- `Comparación de Categorías:` Ayudan a comparar cómo diferentes categorías contribuyen a un total acumulado.\n",
    "\n",
    "- `Visualización de Proporciones:` Permiten visualizar proporciones y comparar cómo las distintas partes se suman para formar el total.\n",
    "\n",
    "## Ventajas\n",
    "- `Claridad en la Comparación:` Proporciona una visualización clara de cómo diferentes categorías contribuyen al total.\n",
    "\n",
    "- `Fácil Identificación de Patrones:` Facilita la identificación de patrones y tendencias acumuladas a lo largo del tiempo.\n",
    "\n",
    "- `Estético y Atractivo:` Los gráficos de área suelen ser visualmente atractivos, lo que puede mejorar la comunicación de datos en presentaciones.\n",
    "\n",
    "## Desventajas\n",
    "- `Confusión con Múltiples Series:` Con múltiples categorías, el gráfico puede volverse confuso y difícil de interpretar.\n",
    "\n",
    "- `Superposición de Datos:` Si las áreas se superponen, puede ser difícil discernir entre las diferentes categorías.\n",
    "\n",
    "- `No es Ideal para Comparaciones Precisas:` Para comparaciones precisas entre categorías, otros tipos de gráficos pueden ser más adecuados."
   ]
  },
  {
   "attachments": {},
   "cell_type": "markdown",
   "metadata": {},
   "source": [
    "- Matplotlib"
   ]
  },
  {
   "cell_type": "code",
   "execution_count": null,
   "metadata": {},
   "outputs": [],
   "source": [
    "# Graficar\n",
    "plt.figure(figsize=(18, 6))\n",
    "plt.fill_between(TC.index, TC[\"cafe_vendido\"], color = 'blue', alpha = 0.5, label = 'Cafe')\n",
    "plt.fill_between(TC.index, TC[\"te_vendido\"], color = 'green', alpha = 0.5, label = 'Te')\n",
    "#plt.fill_between(df['Date'], df['Groceries'], color='orange', alpha=0.5, label='Alimentos')\n",
    "plt.xlabel('Fecha')\n",
    "plt.ylabel('Ventas (unidades)')\n",
    "plt.title('Gráfico de Área: Cafe vs Te')\n",
    "plt.legend()\n",
    "plt.grid(True)\n",
    "plt.show()"
   ]
  },
  {
   "attachments": {},
   "cell_type": "markdown",
   "metadata": {},
   "source": [
    "- `Plotly`"
   ]
  },
  {
   "cell_type": "code",
   "execution_count": null,
   "metadata": {},
   "outputs": [],
   "source": [
    "# Crear el gráfico de área\n",
    "fig = go.Figure()\n",
    "\n",
    "fig.add_trace(go.Scatter(\n",
    "    x = TC.index, y = TC[\"cafe_vendido\"], fill='tozeroy', name = 'Cafe',\n",
    "    mode='none', line=dict(width=0.5, color='blue'),\n",
    "    stackgroup='one'  # define stack group\n",
    "))\n",
    "\n",
    "fig.add_trace(go.Scatter(\n",
    "    x = TC.index, y = TC[\"te_vendido\"], fill='tonexty', name = 'Te',\n",
    "    mode='none', line=dict(width=0.5, color='green'),\n",
    "    stackgroup='one'\n",
    "))\n",
    "\n",
    "\n",
    "\n",
    "# Actualizar layout\n",
    "fig.update_layout(\n",
    "    title='Gráfico de Área: Cafe vs Te',\n",
    "    xaxis_title='Fecha',\n",
    "    yaxis_title='Ventas (unidades)',\n",
    "    showlegend=True\n",
    ")\n",
    "\n",
    "# Mostrar el gráfico\n",
    "fig.show()"
   ]
  },
  {
   "attachments": {},
   "cell_type": "markdown",
   "metadata": {},
   "source": [
    "#  Gráfico de Barras en Series Temporales\n",
    "Un gráfico de barras es una herramienta visual que utiliza barras para representar datos, donde la longitud de cada barra es proporcional al valor que representa. En el contexto de series temporales, los gráficos de barras pueden ser útiles para visualizar la frecuencia o cantidad de eventos en diferentes intervalos de tiempo.\n",
    "\n",
    "## Importancia\n",
    "- `Comparación Claras:` Permite comparar fácilmente diferentes intervalos de tiempo o categorías.\n",
    "\n",
    "- `Visualización de Frecuencias:` Ideal para mostrar la cantidad de eventos en un periodo específico.\n",
    "\n",
    "- `Identificación de Patrones:` Facilita la identificación de patrones repetitivos y estacionalidades.\n",
    "\n",
    "## Ventajas\n",
    "- `Simplicidad:` Son fáciles de entender y crear.\n",
    "\n",
    "- `Versatilidad:` Pueden representar tanto datos categóricos como continuos.\n",
    "\n",
    "- `Eficacia en la Comparación:`Facilitan la comparación de diferentes grupos o periodos de tiempo.\n",
    "\n",
    "## Desventajas\n",
    "- `Limitación de Datos:` No son ideales para datasets muy grandes.\n",
    "\n",
    "- `Escalabilidad:` Pueden volverse confusos cuando se comparan muchas categorías o periodos.\n",
    "\n",
    "- `Precisión:` No muestran la precisión de los datos y pueden ser menos informativos que otros gráficos en ciertos contextos."
   ]
  },
  {
   "cell_type": "code",
   "execution_count": null,
   "metadata": {},
   "outputs": [],
   "source": [
    "import pandas as pd\n",
    "import numpy as np\n",
    "import matplotlib.pyplot as plt\n",
    "\n",
    "# Crear el gráfico de barras con matplotlib\n",
    "plt.figure(figsize=(18, 6))\n",
    "plt.bar(TC.index, TC[\"cafe_vendido\"], color='skyblue', label = \"Cafe\")\n",
    "plt.xlabel('Fecha')\n",
    "plt.ylabel('Ventas(unidades)')\n",
    "plt.title('Gráfico de Barras: Unidades de Cafe vendidos')\n",
    "plt.xticks(rotation=45)\n",
    "plt.legend()\n",
    "plt.grid(True)\n",
    "plt.show()"
   ]
  },
  {
   "attachments": {},
   "cell_type": "markdown",
   "metadata": {},
   "source": [
    "- `Plotly`"
   ]
  },
  {
   "cell_type": "code",
   "execution_count": null,
   "metadata": {},
   "outputs": [],
   "source": [
    "# Crear el gráfico de barras con Plotly\n",
    "fig = px.bar(TC, x = TC.index, y = \"cafe_vendido\", title = 'Gráfico de Barras: Unidades de Cafe vendidos')\n",
    "fig.update_layout(\n",
    "    xaxis_title = 'Fecha',\n",
    "    yaxis_title = 'Ventas(unidades)',\n",
    "    title={'x':0.5}\n",
    ")\n",
    "\n",
    "# Mostrar el gráfico\n",
    "fig.show()"
   ]
  },
  {
   "attachments": {},
   "cell_type": "markdown",
   "metadata": {},
   "source": [
    "#  Box Plot en Series Temporales\n",
    "Un box plot, también conocido como diagrama de caja y bigotes, es una representación gráfica que muestra la distribución de un conjunto de datos en términos de sus cuartiles, valores atípicos y la mediana. Es especialmente útil en el análisis de series temporales para visualizar la variabilidad y detectar outliers en diferentes periodos de tiempo.\n",
    "\n",
    "## Importancia\n",
    "- `Identificación de Valores Atípicos:` Permite detectar rápidamente valores atípicos que pueden afectar el análisis de los datos.\n",
    "\n",
    "- `Visualización de la Distribución:` Muestra cómo se distribuyen los datos y facilita la comparación de distribuciones entre diferentes periodos.\n",
    "\n",
    "- `Mediana y Cuartiles:` Proporciona información sobre la mediana y los cuartiles, lo que ayuda a entender la tendencia central y la variabilidad de los datos.\n",
    "\n",
    "## Ventajas\n",
    "- `Clara Visualización de la Distribución:` Muestra de manera clara y concisa la distribución de los datos, incluyendo la mediana, los cuartiles y los valores atípicos.\n",
    "\n",
    "- `Detección de Outliers:` Facilita la identificación de valores atípicos que podrían no ser evidentes en otros tipos de gráficos.\n",
    "\n",
    "- `Comparación Efectiva:` Permite comparar la variabilidad y la distribución de datos entre diferentes categorías o periodos de tiempo.\n",
    "\n",
    "## Desventajas\n",
    "- `Interpretación Inicial Compleja:` Puede ser un poco difícil de interpretar para aquellos que no están familiarizados con el gráfico.\n",
    "\n",
    "- `No Muestra la Frecuencia Exacta:` No proporciona información detallada sobre la frecuencia de los datos dentro de cada cuartil.\n",
    "\n",
    "- `Limitado para Datos Pequeños:` Puede no ser tan informativo cuando se trabaja con conjuntos de datos muy pequeños."
   ]
  },
  {
   "cell_type": "code",
   "execution_count": null,
   "metadata": {},
   "outputs": [],
   "source": [
    "TC = df.groupby(\"Date\")[\"Item\"].apply(lambda x: x[x==\"Tea\"].count()).rename(\"te_vendido\").to_frame()\n",
    "TC[\"cafe_vendido\"] = df.groupby(\"Date\")[\"Item\"].apply(lambda x: x[x==\"Coffee\"].count())"
   ]
  },
  {
   "cell_type": "code",
   "execution_count": null,
   "metadata": {},
   "outputs": [],
   "source": [
    "TC.reset_index(inplace = True)"
   ]
  },
  {
   "cell_type": "code",
   "execution_count": null,
   "metadata": {},
   "outputs": [],
   "source": [
    "TC"
   ]
  },
  {
   "cell_type": "code",
   "execution_count": null,
   "metadata": {},
   "outputs": [],
   "source": [
    "# Añadir una columna para el mes\n",
    "TC['Month'] = TC[\"Date\"].dt.month\n",
    "TC[\"month_name\"]= TC['Date'].dt.month_name() # Nombre mes\n",
    "\n",
    "TC['month_name'] = pd.Categorical(TC['month_name'], categories=[ 'January', 'February', 'March', 'April',  \n",
    "                                                                'October', 'November', 'December'], ordered=True)"
   ]
  },
  {
   "cell_type": "code",
   "execution_count": null,
   "metadata": {},
   "outputs": [],
   "source": [
    "TC"
   ]
  },
  {
   "cell_type": "code",
   "execution_count": null,
   "metadata": {},
   "outputs": [],
   "source": [
    "# Crear el box plot\n",
    "plt.figure(figsize=(18, 6))\n",
    "TC.boxplot(column = 'cafe_vendido', by = 'month_name', grid=False, figsize=(18, 6))\n",
    "plt.xlabel('Mes')\n",
    "plt.ylabel('Ventas(unidades)')\n",
    "plt.title('Box Plot: Cafe vendido')\n",
    "plt.suptitle('')\n",
    "plt.show()\n"
   ]
  },
  {
   "cell_type": "code",
   "execution_count": null,
   "metadata": {},
   "outputs": [],
   "source": [
    "# Crear el box plot\n",
    "plt.figure(figsize=(18, 6))\n",
    "TC.boxplot(column = 'te_vendido', by = 'month_name', grid=False, figsize=(18, 6))\n",
    "plt.xlabel('Mes')\n",
    "plt.ylabel('Ventas(unidades)')\n",
    "plt.title('Box Plot: Te vendido')\n",
    "plt.suptitle('')\n",
    "plt.show()"
   ]
  },
  {
   "cell_type": "code",
   "execution_count": null,
   "metadata": {},
   "outputs": [],
   "source": [
    "# Asegurarse de que los meses están ordenados de enero a diciembre\n",
    "month_order = ['January', 'February', 'March', 'April',  'October', 'November', 'December']\n",
    "TC['month_name'] = pd.Categorical(TC['month_name'], categories = month_order, ordered=True)\n",
    "\n",
    "# Crear el box plot con Plotly\n",
    "fig = px.box(TC, x='month_name', y='te_vendido', title='Box Plot: Ventas Mensual de Té')\n",
    "fig.update_layout(\n",
    "    xaxis_title='Mes',\n",
    "    yaxis_title='Ventas de Té (unidades)',\n",
    "    title={'x': 0.5},\n",
    "    xaxis=dict(categoryorder='array', categoryarray=month_order)\n",
    ")\n",
    "\n",
    "# Mostrar el gráfico\n",
    "fig.show()\n"
   ]
  },
  {
   "cell_type": "code",
   "execution_count": null,
   "metadata": {},
   "outputs": [],
   "source": [
    "# Asegurarse de que los meses están ordenados de enero a diciembre\n",
    "month_order = ['January', 'February', 'March', 'April',  'October', 'November', 'December']\n",
    "TC['month_name'] = pd.Categorical(TC['month_name'], categories = month_order, ordered=True)\n",
    "\n",
    "# Crear el box plot con Plotly\n",
    "fig = px.box(TC, x = 'month_name', y = 'cafe_vendido', title='Box Plot: Ventas Mensual de Cafe')\n",
    "fig.update_layout(\n",
    "    xaxis_title='Mes',\n",
    "    yaxis_title='Ventas de Cafe (unidades)',\n",
    "    title={'x': 0.5},\n",
    "    xaxis=dict(categoryorder='array', categoryarray=month_order)\n",
    ")\n",
    "\n",
    "# Mostrar el gráfico\n",
    "fig.show()"
   ]
  },
  {
   "attachments": {},
   "cell_type": "markdown",
   "metadata": {},
   "source": [
    "#  Heatmap en Series Temporales\n",
    "\n",
    "Un heatmap, o mapa de calor, es una representación gráfica de datos en una matriz, donde los valores se representan mediante variaciones de color. En el contexto de series temporales, los heatmaps son útiles para visualizar la densidad de datos, patrones estacionales y tendencias a lo largo del tiempo.\n",
    "\n",
    "## Importancia\n",
    "- `Identificación de Patrones:` Facilita la detección de patrones estacionales y tendencias en datos temporales.\n",
    "\n",
    "- `Visualización de Densidad:` Muestra la densidad de eventos o valores, ayudando a identificar áreas de alta y baja concentración.\n",
    "\n",
    "- `Comparación Efectiva:` Permite comparar diferentes periodos de tiempo de manera efectiva.\n",
    "\n",
    "## Ventajas\n",
    "- `Claridad Visual:` Proporciona una visión clara y compacta de grandes conjuntos de datos.\n",
    "\n",
    "- `Detección de Anomalías:` Facilita la identificación de anomalías y outliers en los datos.\n",
    "\n",
    "- `Compatibilidad con Datos Complejos:` Ideal para visualizar datos complejos y multivariados.\n",
    "\n",
    "- `Facilidad de Interpretación:` Los colores permiten una interpretación rápida y fácil de los datos.\n",
    "\n",
    "## Desventajas\n",
    "- `Escalabilidad:` Puede volverse difícil de interpretar con conjuntos de datos extremadamente grandes o detalles finos.\n",
    "\n",
    "- `Precisión:` No muestra valores exactos, lo que puede ser una limitación en análisis que requieran alta precisión.\n",
    "\n",
    "- `Dependencia del Escalado:` La elección del escalado de color puede afectar significativamente la interpretación del heatmap."
   ]
  },
  {
   "cell_type": "code",
   "execution_count": null,
   "metadata": {},
   "outputs": [],
   "source": [
    "TC = df.groupby(\"Date\")[\"Item\"].apply(lambda x: x[x==\"Tea\"].count()).rename(\"te_vendido\").to_frame()\n",
    "TC[\"cafe_vendido\"] = df.groupby(\"Date\")[\"Item\"].apply(lambda x: x[x==\"Coffee\"].count())"
   ]
  },
  {
   "cell_type": "code",
   "execution_count": null,
   "metadata": {},
   "outputs": [],
   "source": [
    "# Crear el heatmap con Seaborn\n",
    "plt.figure(figsize=(12, 8))\n",
    "sns.heatmap(TC.T, cmap=\"YlOrRd\", cbar=True)\n",
    "plt.title('Heatmap: Densidad de Pacientes Diarios por Departamento')\n",
    "plt.xlabel('Fecha')\n",
    "plt.ylabel('Departamento')\n",
    "plt.show()"
   ]
  },
  {
   "attachments": {},
   "cell_type": "markdown",
   "metadata": {},
   "source": [
    "- `Plotly`"
   ]
  },
  {
   "cell_type": "code",
   "execution_count": null,
   "metadata": {},
   "outputs": [],
   "source": [
    "TC"
   ]
  },
  {
   "cell_type": "code",
   "execution_count": null,
   "metadata": {},
   "outputs": [],
   "source": [
    "df_long = TC.reset_index().melt(id_vars='Date', var_name = 'producto', value_name = 'ventas')\n",
    "df_long"
   ]
  },
  {
   "cell_type": "code",
   "execution_count": null,
   "metadata": {},
   "outputs": [],
   "source": [
    "# Crear el heatmap con Plotly\n",
    "fig = px.density_heatmap(df_long, x = 'Date', y = 'producto', z = 'ventas', \n",
    "                         color_continuous_scale='YlOrRd', \n",
    "                         title='Heatmap: Unidades de Ventas por Productos')\n",
    "\n",
    "# Actualizar el layout\n",
    "fig.update_layout(\n",
    "    xaxis_title='Fecha',\n",
    "    yaxis_title= 'Producto',\n",
    "    title={'x':0.5}\n",
    ")\n",
    "\n",
    "# Mostrar el gráfico\n",
    "fig.show()"
   ]
  },
  {
   "attachments": {},
   "cell_type": "markdown",
   "metadata": {},
   "source": [
    "#  Autocorrelation Plot (ACF) en Series Temporales\n",
    "\n",
    "Un Autocorrelation Plot (ACF) es una herramienta fundamental en el análisis de series temporales que mide la correlación de una serie temporal con sus propias versiones desfasadas en diferentes intervalos de tiempo. Este gráfico muestra cómo los datos en una serie temporal están relacionados con sus pasados, lo cual es esencial para detectar patrones repetitivos y estacionalidades.\n",
    "\n",
    "## Importancia\n",
    "- `Identificación de Patrones:` El ACF es crucial para identificar patrones repetitivos y estacionales en una serie temporal.\n",
    "\n",
    "- `Detección de Estacionalidad:` Facilita la detección de componentes estacionales al mostrar la correlación en intervalos específicos.\n",
    "\n",
    "- `Modelado de Series Temporales:` Es una herramienta clave en el desarrollo de modelos ARIMA y otros modelos de series temporales que dependen de la autocorrelación.\n",
    "\n",
    "## Ventajas\n",
    "- `Claridad en la Relación Temporal:` Proporciona una visión clara de cómo los puntos en la serie temporal están relacionados a diferentes intervalos de tiempo.\n",
    "\n",
    "- `Detección de Estacionalidades:` Ayuda a identificar y confirmar la presencia de estacionalidades en los datos.\n",
    "\n",
    "- `Herramienta de Diagnóstico:` Es útil para diagnosticar problemas en los modelos de series temporales y mejorar su precisión.\n",
    "\n",
    "## Desventajas\n",
    "- `Interdependencia:` Las correlaciones en diferentes desfasados pueden ser difíciles de interpretar debido a la interdependencia entre los puntos de datos.\n",
    "\n",
    "- `Dependencia de la Longitud de la Serie:` La efectividad del ACF puede disminuir con series temporales muy cortas o muy largas.\n",
    "\n",
    "- `Interpretación Compleja:` Puede ser complejo de interpretar para aquellos que no están familiarizados con el análisis de series temporales."
   ]
  },
  {
   "cell_type": "code",
   "execution_count": null,
   "metadata": {},
   "outputs": [],
   "source": [
    "import pandas as pd\n",
    "import numpy as np\n",
    "import matplotlib.pyplot as plt\n",
    "from statsmodels.graphics.tsaplots import plot_acf\n",
    "from pandas.plotting import autocorrelation_plot\n",
    "\n",
    "\n",
    "#TC.set_index('Date', inplace=True)\n",
    "\n",
    "# Crear el gráfico de autocorrelación (ACF)\n",
    "plt.figure(figsize=(12, 6))\n",
    "#plot_acf(df['Sales'], lags=30)\n",
    "autocorrelation_plot(TC['te_vendido'])\n",
    "plt.title('Autocorrelation Plot (ACF): Ventas de Te')\n",
    "plt.xlabel('Lags')\n",
    "plt.ylabel('Autocorrelación')\n",
    "plt.grid(True)\n",
    "plt.show()"
   ]
  },
  {
   "cell_type": "code",
   "execution_count": null,
   "metadata": {},
   "outputs": [],
   "source": [
    "# Crear el gráfico de autocorrelación (ACF)\n",
    "\n",
    "fig, axs = plt.subplots(figsize=(18, 6))\n",
    "plot_acf(TC[\"cafe_vendido\"], lags=30, ax = axs)\n",
    "#autocorrelation_plot(TC['te_vendido'])\n",
    "plt.title('Autocorrelation Plot (ACF): Ventas de Cafe')\n",
    "plt.xlabel('Lags')\n",
    "plt.ylabel('Autocorrelación')\n",
    "plt.grid(True)\n",
    "plt.show()"
   ]
  },
  {
   "cell_type": "code",
   "execution_count": null,
   "metadata": {},
   "outputs": [],
   "source": [
    "import pandas as pd\n",
    "import numpy as np\n",
    "import plotly.graph_objs as go\n",
    "from statsmodels.tsa.stattools import acf\n",
    "\n",
    "\n",
    "# Calcular el ACF\n",
    "acf_values = acf(TC[\"cafe_vendido\"], nlags=30)\n",
    "lag = list(range(len(acf_values)))\n",
    "\n",
    "# Crear el gráfico de ACF con Plotly\n",
    "fig = go.Figure()\n",
    "\n",
    "fig.add_trace(go.Bar(\n",
    "    x=lag, y=acf_values, marker=dict(color='blue'),\n",
    "    name='Autocorrelación'\n",
    "))\n",
    "\n",
    "# Añadir líneas de significancia\n",
    "fig.add_trace(go.Scatter(\n",
    "    x=[0, max(lag)], y=[0.2, 0.2], mode=\"lines\",\n",
    "    line=go.scatter.Line(color=\"red\", dash=\"dash\"), showlegend=False\n",
    "))\n",
    "\n",
    "fig.add_trace(go.Scatter(\n",
    "    x=[0, max(lag)], y=[-0.2, -0.2], mode=\"lines\",\n",
    "    line=go.scatter.Line(color=\"red\", dash=\"dash\"), showlegend=False\n",
    "))\n",
    "\n",
    "# Actualizar el layout del gráfico\n",
    "fig.update_layout(\n",
    "    title='Autocorrelation Plot (ACF): Ventas Diarias Cafe',\n",
    "    xaxis_title='Lags',\n",
    "    yaxis_title='Autocorrelación',\n",
    "    height=600,\n",
    "    width=1000\n",
    ")\n",
    "\n",
    "# Mostrar el gráfico\n",
    "fig.show()"
   ]
  },
  {
   "attachments": {},
   "cell_type": "markdown",
   "metadata": {},
   "source": [
    "#  Seasonal Decomposition Plot en Series Temporales\n",
    "El gráfico de descomposición estacional (Seasonal Decomposition Plot) es una herramienta poderosa en el análisis de series temporales, que separa una serie temporal en tres componentes: tendencia, estacionalidad y residuo. Este proceso permite un análisis más detallado y profundo de cada componente individual, ayudando a entender mejor el comportamiento de los datos a lo largo del tiempo.\n",
    "\n",
    "## Importancia\n",
    "- `Identificación de Componentes:` Permite identificar y analizar la tendencia, la estacionalidad y los residuos de una serie temporal por separado.\n",
    "\n",
    "- `Mejora del Análisis:` Facilita la comprensión de cómo los diferentes componentes contribuyen al comportamiento general de la serie temporal.\n",
    "\n",
    "- `Precisión en Pronósticos:` Ayuda a mejorar la precisión de los modelos de pronóstico al considerar cada componente por separado.\n",
    "\n",
    "## Ventajas\n",
    "- `Análisis Detallado:` Proporciona una visión detallada de los datos al separar los componentes.\n",
    "\n",
    "- `Detección de Patrones:` Facilita la detección de patrones estacionales y tendencias a largo plazo.\n",
    "\n",
    "- `Mejora de Modelos:` Permite mejorar los modelos de predicción al analizar cada componente por separado.\n",
    "\n",
    "## Desventajas\n",
    "- `Complejidad:` Puede ser complejo de implementar y entender para aquellos que no están familiarizados con el análisis de series temporales.\n",
    "\n",
    "- `Dependencia de Supuestos:` La precisión del análisis depende de ciertos supuestos sobre la estacionalidad y la tendencia que pueden no ser siempre válidos.\n",
    "\n",
    "- `Requiere Datos Suficientes:` La descomposición estacional requiere una cantidad suficiente de datos para proporcionar resultados significativos."
   ]
  },
  {
   "cell_type": "code",
   "execution_count": null,
   "metadata": {},
   "outputs": [],
   "source": [
    "import pandas as pd\n",
    "import numpy as np\n",
    "import matplotlib.pyplot as plt\n",
    "\n",
    "from statsmodels.tsa.seasonal import seasonal_decompose\n",
    "\n",
    "# Descomponer la serie temporal\n",
    "result = seasonal_decompose(TC[\"cafe_vendido\"], model='additive', period = 7)\n",
    "\n",
    "# Graficar los componentes\n",
    "plt.figure(figsize=(12, 10))\n",
    "plt.subplot(411)\n",
    "plt.plot(result.observed, label='Observed')\n",
    "plt.legend(loc='upper left')\n",
    "plt.subplot(412)\n",
    "plt.plot(result.trend, label='Trend')\n",
    "plt.legend(loc='upper left')\n",
    "plt.subplot(413)\n",
    "plt.plot(result.seasonal, label='Seasonal')\n",
    "plt.legend(loc='upper left')\n",
    "plt.subplot(414)\n",
    "plt.plot(result.resid, label='Residual')\n",
    "plt.legend(loc='upper left')\n",
    "plt.tight_layout()\n",
    "plt.show()"
   ]
  },
  {
   "attachments": {},
   "cell_type": "markdown",
   "metadata": {},
   "source": [
    "- `Plotly`"
   ]
  },
  {
   "cell_type": "code",
   "execution_count": null,
   "metadata": {},
   "outputs": [],
   "source": [
    "import pandas as pd\n",
    "import numpy as np\n",
    "import plotly.graph_objs as go\n",
    "from plotly.subplots import make_subplots\n",
    "from statsmodels.tsa.seasonal import seasonal_decompose\n",
    "\n",
    "# Descomponer la serie temporal\n",
    "result = seasonal_decompose(TC[\"te_vendido\"], model='additive', period= 7)\n",
    "\n",
    "# Crear el gráfico de descomposición con Plotly\n",
    "fig = make_subplots(rows=4, cols=1, shared_xaxes=True,\n",
    "                    subplot_titles=('Observed', 'Trend', 'Seasonal', 'Residual'),\n",
    "                    vertical_spacing=0.1)\n",
    "\n",
    "# Agregar los datos descompuestos al gráfico\n",
    "fig.add_trace(go.Scatter(x=df.index, y=result.observed, name='Observed'), row=1, col=1)\n",
    "fig.add_trace(go.Scatter(x=df.index, y=result.trend, name='Trend'), row=2, col=1)\n",
    "fig.add_trace(go.Scatter(x=df.index, y=result.seasonal, name='Seasonal'), row=3, col=1)\n",
    "fig.add_trace(go.Scatter(x=df.index, y=result.resid, name='Residual'), row=4, col=1)\n",
    "\n",
    "# Actualizar el layout del gráfico\n",
    "fig.update_layout(height=800, width=1000, title_text='Seasonal Decomposition of Time Series', showlegend=False)\n",
    "\n",
    "# Mostrar el gráfico\n",
    "fig.show()"
   ]
  },
  {
   "attachments": {},
   "cell_type": "markdown",
   "metadata": {},
   "source": [
    "# Gráfico de Densidad en Series Temporales\n",
    "El gráfico de densidad es una visualización que muestra la distribución de una variable continua, proporcionando una estimación suave de la densidad de probabilidad de los datos. En el análisis de series temporales, los gráficos de densidad son útiles para observar cómo se distribuyen los datos a lo largo del tiempo y para identificar patrones y anomalías.\n",
    "\n",
    "## Importancia\n",
    "- `Visualización de Distribuciones:` Ayuda a entender cómo se distribuyen los datos en diferentes periodos de tiempo.\n",
    "\n",
    "- `Detección de Patrones:` Facilita la identificación de patrones de frecuencia y tendencias.\n",
    "\n",
    "- `Análisis de Variabilidad:` Permite evaluar la variabilidad y la dispersión de los datos.\n",
    "\n",
    "## Ventajas\n",
    "- `Claridad en la Distribución:` Ofrece una visualización clara de la densidad de los datos, lo que facilita la interpretación.\n",
    "\n",
    "- `Detección de Anomalías:` Ayuda a identificar outliers y valores atípicos.\n",
    "\n",
    "- `Comparación de Distribuciones:` Permite comparar la distribución de datos entre diferentes periodos o categorías.\n",
    "\n",
    "## Desventajas\n",
    "- `Complejidad en la Interpretación:` Puede ser difícil de interpretar para aquellos que no están familiarizados con este tipo de gráfico.\n",
    "\n",
    "- `Limitado para Conjuntos de Datos Pequeños:` No es tan efectivo cuando se trabaja con conjuntos de datos muy pequeños.\n",
    "\n",
    "- `No Muestra Valores Exactos:` Proporciona una estimación suave de la densidad, pero no muestra los valores exactos de los datos."
   ]
  },
  {
   "attachments": {},
   "cell_type": "markdown",
   "metadata": {},
   "source": [
    "- `Seaborn - kdeplot`"
   ]
  },
  {
   "cell_type": "code",
   "execution_count": null,
   "metadata": {},
   "outputs": [],
   "source": [
    "# Crear el gráfico de densidad con Seaborn\n",
    "plt.figure(figsize=(18, 6))\n",
    "sns.kdeplot(TC[\"cafe_vendido\"], fill = True, color='blue', label = \"Cafe - KDE\")\n",
    "#sns.kdeplot(TC[\"te_vendido\"], fill = True, color='red', label = \"Te - KDE\")\n",
    "plt.title('Gráfico de Densidad: Cafe Vendido')\n",
    "plt.xlabel('')\n",
    "plt.ylabel('Ventas(unidades)')\n",
    "plt.legend()\n",
    "plt.grid(True)\n",
    "plt.show()"
   ]
  },
  {
   "cell_type": "code",
   "execution_count": null,
   "metadata": {},
   "outputs": [],
   "source": [
    "# Crear el gráfico de densidad con Seaborn\n",
    "plt.figure(figsize=(18, 6))\n",
    "#sns.kdeplot(TC[\"cafe_vendido\"], fill = True, color='blue', label = \"Cafe - KDE\")\n",
    "sns.kdeplot(TC[\"te_vendido\"], fill = True, color='red', label = \"Te - KDE\")\n",
    "plt.title('Gráfico de Densidad: Cafe Vendido')\n",
    "plt.xlabel('')\n",
    "plt.ylabel('Ventas(unidades)')\n",
    "plt.legend()\n",
    "plt.grid(True)\n",
    "plt.show()"
   ]
  },
  {
   "attachments": {},
   "cell_type": "markdown",
   "metadata": {},
   "source": [
    "- `Plotly`"
   ]
  },
  {
   "cell_type": "code",
   "execution_count": null,
   "metadata": {},
   "outputs": [],
   "source": [
    "TC = df.groupby(\"Date\")[\"Item\"].apply(lambda x: x[x==\"Tea\"].count()).rename(\"te_vendido\").to_frame()\n",
    "TC[\"cafe_vendido\"] = df.groupby(\"Date\")[\"Item\"].apply(lambda x: x[x==\"Coffee\"].count())"
   ]
  },
  {
   "cell_type": "code",
   "execution_count": null,
   "metadata": {},
   "outputs": [],
   "source": [
    "TC"
   ]
  },
  {
   "cell_type": "code",
   "execution_count": null,
   "metadata": {},
   "outputs": [],
   "source": [
    "import plotly.figure_factory as ff\n",
    "import numpy as np\n",
    "np.random.seed(1)\n",
    "\n",
    "x = TC[\"cafe_vendido\"]\n",
    "hist_data = [x]\n",
    "group_labels = ['Ventas de Cafe'] # name of the dataset\n",
    "\n",
    "fig = ff.create_distplot(hist_data, group_labels)\n",
    "fig.update_layout(\n",
    "    title='Gráfico de Densidad: Ventas de Cafe',\n",
    "    xaxis_title='',\n",
    "    yaxis_title='Densidad',\n",
    "    title_x=0.5\n",
    ")\n",
    "fig.show()"
   ]
  },
  {
   "attachments": {},
   "cell_type": "markdown",
   "metadata": {},
   "source": [
    "# Vela Japonesa\n",
    "Las velas japonesas son una herramienta fundamental en el análisis técnico del mercado financiero. Representan gráficamente la evolución del precio de un activo en un período de tiempo específico. Cada vela muestra información clave como apertura, cierre, máximo y mínimo. El color del cuerpo de la vela indica si el precio cerró por encima o por debajo del precio de apertura, lo que permite a los traders interpretar la dirección del precio.\n",
    "\n",
    "## Importancia\n",
    "Las velas japonesas son esenciales porque permiten a los traders identificar patrones y tendencias en los movimientos de precios. Esto ayuda a tomar decisiones informadas sobre cuándo comprar o vender un activo.\n",
    "\n",
    "## Ventajas\n",
    "- `Claridad visual:` Proporcionan una representación clara y concisa de los datos de precios.\n",
    "- `Identificación de tendencias:` Ayudan a identificar patrones que indican cambios en la tendencia del mercado.\n",
    "- `Facilidad de uso:` Son fáciles de interpretar y utilizar, incluso para traders principiantes.\n",
    "\n",
    "## Desventajas\n",
    "- `Sensibilidad a los parámetros:` La interpretación puede variar dependiendo del período de tiempo seleccionado.\n",
    "- `No consideran factores externos:` Solo se basan en datos históricos de precios y no tienen en cuenta eventos externos que puedan afectar el mercado."
   ]
  },
  {
   "attachments": {},
   "cell_type": "markdown",
   "metadata": {},
   "source": [
    "Se requiere instalar \n",
    "\n",
    "- `!pip install yfinance`"
   ]
  },
  {
   "cell_type": "code",
   "execution_count": null,
   "metadata": {},
   "outputs": [],
   "source": [
    "import pandas as pd\n",
    "import yfinance as yf\n",
    "import plotly.graph_objs as go\n",
    "\n",
    "# Obtener datos históricos de Yahoo Finance\n",
    "ticker = yf.Ticker(\"AAPL\")\n",
    "data = ticker.history(period=\"1y\")\n",
    "\n",
    "# Crear el gráfico de velas japonesas con Plotly\n",
    "fig = go.Figure(data=[go.Candlestick(x = data.index,\n",
    "                                     open = data['Open'],\n",
    "                                     high = data['High'],\n",
    "                                     low = data['Low'],\n",
    "                                     close = data['Close'],\n",
    "                                     increasing_line_color = 'green', \n",
    "                                     decreasing_line_color = 'red')])\n",
    "\n",
    "# Actualizar el layout del gráfico\n",
    "fig.update_layout(\n",
    "    title='Velas Japonesas de Apple (AAPL)',\n",
    "    xaxis_title='Fecha',\n",
    "    yaxis_title='Precio',\n",
    "    xaxis_rangeslider_visible=False\n",
    ")\n",
    "\n",
    "# Mostrar el gráfico\n",
    "fig.show()"
   ]
  },
  {
   "attachments": {},
   "cell_type": "markdown",
   "metadata": {},
   "source": [
    "# Diagrama de Gantt en Series Temporales\n",
    "\n",
    "El Diagrama de Gantt es una herramienta gráfica utilizada para la gestión de proyectos que muestra las actividades (tareas o eventos) a lo largo del tiempo. En un diagrama de Gantt, cada tarea se representa mediante una barra horizontal, donde la longitud de la barra corresponde a la duración de la tarea.\n",
    "\n",
    "## Importancia\n",
    "- `Gestión de Proyectos:` Permite planificar, coordinar y realizar un seguimiento de tareas en proyectos.\n",
    "\n",
    "- `Visualización del Tiempo:` Proporciona una representación clara del tiempo necesario para completar cada tarea.\n",
    "\n",
    "- `Identificación de Dependencias:` Ayuda a identificar y gestionar las interdependencias entre tareas.\n",
    "\n",
    "## Ventajas\n",
    "- `Claridad Visual:` Proporciona una visión clara y sencilla del cronograma del proyecto.\n",
    "\n",
    "- `Seguimiento del Progreso:` Facilita el seguimiento del progreso y el cumplimiento de los plazos.\n",
    "\n",
    "- `Identificación de Cuellos de Botella:` Ayuda a identificar y resolver cuellos de botella en el flujo de trabajo.\n",
    "\n",
    "## Desventajas\n",
    "- `Complejidad con Proyectos Grandes:` Puede volverse confuso y difícil de gestionar en proyectos muy grandes con muchas tareas.\n",
    "\n",
    "- `Rigidez:` No es tan flexible para adaptarse a cambios rápidos en el cronograma.\n",
    "\n",
    "- `Detalle Limitado:` Puede no mostrar suficiente detalle en tareas muy complejas o proyectos muy detallados."
   ]
  },
  {
   "cell_type": "code",
   "execution_count": 3,
   "metadata": {},
   "outputs": [
    {
     "data": {
      "image/png": "[encoded data removed]",
      "text/plain": [
       "<Figure size 1800x600 with 1 Axes>"
      ]
     },
     "metadata": {},
     "output_type": "display_data"
    }
   ],
   "source": [
    "import pandas as pd\n",
    "import matplotlib.pyplot as plt\n",
    "import matplotlib.dates as mdates\n",
    "\n",
    "# Crear un DataFrame con las tareas del proyecto y sus fechas\n",
    "data = {\n",
    "    'Task': ['Revisión Datos', 'Limpieza de Datos', 'Seleccion Variables', 'DA', 'Modelación', 'Forecasting'],\n",
    "    'Start': ['2023-01-01', '2023-02-01', '2023-03-01', '2023-05-01', '2023-07-01', '2023-08-01'],\n",
    "    'Finish': ['2023-01-31', '2023-02-28', '2023-06-30', '2023-07-31', '2023-08-31', '2023-09-30']\n",
    "}\n",
    "\n",
    "df = pd.DataFrame(data)\n",
    "\n",
    "# Convertir las fechas a formato datetime\n",
    "df['Start'] = pd.to_datetime(df['Start'])\n",
    "df['Finish'] = pd.to_datetime(df['Finish'])\n",
    "\n",
    "# Crear el gráfico de Gantt con Matplotlib\n",
    "fig, ax = plt.subplots(figsize=(18, 6))\n",
    "\n",
    "# Agregar las barras de las tareas\n",
    "for i, task in enumerate(df.itertuples()):\n",
    "    ax.barh(task.Task, (task.Finish - task.Start).days, left=task.Start, color='skyblue')\n",
    "\n",
    "# Formato de las fechas en el eje x\n",
    "ax.xaxis.set_major_locator(mdates.MonthLocator())\n",
    "ax.xaxis.set_major_formatter(mdates.DateFormatter('%Y-%m'))\n",
    "\n",
    "# Configuración del gráfico\n",
    "plt.xlabel('Fecha')\n",
    "plt.ylabel('Tarea')\n",
    "plt.title('Diagrama de Gantt: Apertura de Nuevo Hotel')\n",
    "plt.grid(True)\n",
    "plt.tight_layout()\n",
    "\n",
    "# Mostrar el gráfico\n",
    "plt.show()"
   ]
  },
  {
   "attachments": {},
   "cell_type": "markdown",
   "metadata": {},
   "source": [
    "- `Plotly`"
   ]
  },
  {
   "cell_type": "code",
   "execution_count": 4,
   "metadata": {},
   "outputs": [
    {
     "data": {
      "application/vnd.plotly.v1+json": {
       "config": {
        "plotlyServerURL": "https://plot.ly"
       },
       "data": [
        {
         "alignmentgroup": "True",
         "base": [
          "2023-01-01T00:00:00",
          "2023-02-01T00:00:00",
          "2023-03-01T00:00:00",
          "2023-05-01T00:00:00",
          "2023-07-01T00:00:00",
          "2023-08-01T00:00:00"
         ],
         "hovertemplate": "Start=%{base}<br>Finish=%{x}<br>Task=%{y}<extra></extra>",
         "legendgroup": "",
         "marker": {
          "color": "#636efa",
          "pattern": {
           "shape": ""
          }
         },
         "name": "",
         "offsetgroup": "",
         "orientation": "h",
         "showlegend": false,
         "textposition": "auto",
         "type": "bar",
         "x": [
          2592000000,
          2332800000,
          10454400000,
          7862400000,
          5270400000,
          5184000000
         ],
         "xaxis": "x",
         "y": [
          "Revisión Datos",
          "Limpieza de Datos",
          "Seleccion Variables",
          "DA",
          "Modelación",
          "Forecasting"
         ],
         "yaxis": "y"
        }
       ],
       "layout": {
        "barmode": "overlay",
        "legend": {
         "tracegroupgap": 0
        },
        "showlegend": false,
        "template": {
         "data": {
          "bar": [
           {
            "error_x": {
             "color": "#2a3f5f"
            },
            "error_y": {
             "color": "#2a3f5f"
            },
            "marker": {
             "line": {
              "color": "#E5ECF6",
              "width": 0.5
             },
             "pattern": {
              "fillmode": "overlay",
              "size": 10,
              "solidity": 0.2
             }
            },
            "type": "bar"
           }
          ],
          "barpolar": [
           {
            "marker": {
             "line": {
              "color": "#E5ECF6",
              "width": 0.5
             },
             "pattern": {
              "fillmode": "overlay",
              "size": 10,
              "solidity": 0.2
             }
            },
            "type": "barpolar"
           }
          ],
          "carpet": [
           {
            "aaxis": {
             "endlinecolor": "#2a3f5f",
             "gridcolor": "white",
             "linecolor": "white",
             "minorgridcolor": "white",
             "startlinecolor": "#2a3f5f"
            },
            "baxis": {
             "endlinecolor": "#2a3f5f",
             "gridcolor": "white",
             "linecolor": "white",
             "minorgridcolor": "white",
             "startlinecolor": "#2a3f5f"
            },
            "type": "carpet"
           }
          ],
          "choropleth": [
           {
            "colorbar": {
             "outlinewidth": 0,
             "ticks": ""
            },
            "type": "choropleth"
           }
          ],
          "contour": [
           {
            "colorbar": {
             "outlinewidth": 0,
             "ticks": ""
            },
            "colorscale": [
             [
              0,
              "#0d0887"
             ],
             [
              0.1111111111111111,
              "#46039f"
             ],
             [
              0.2222222222222222,
              "#7201a8"
             ],
             [
              0.3333333333333333,
              "#9c179e"
             ],
             [
              0.4444444444444444,
              "#bd3786"
             ],
             [
              0.5555555555555556,
              "#d8576b"
             ],
             [
              0.6666666666666666,
              "#ed7953"
             ],
             [
              0.7777777777777778,
              "#fb9f3a"
             ],
             [
              0.8888888888888888,
              "#fdca26"
             ],
             [
              1,
              "#f0f921"
             ]
            ],
            "type": "contour"
           }
          ],
          "contourcarpet": [
           {
            "colorbar": {
             "outlinewidth": 0,
             "ticks": ""
            },
            "type": "contourcarpet"
           }
          ],
          "heatmap": [
           {
            "colorbar": {
             "outlinewidth": 0,
             "ticks": ""
            },
            "colorscale": [
             [
              0,
              "#0d0887"
             ],
             [
              0.1111111111111111,
              "#46039f"
             ],
             [
              0.2222222222222222,
              "#7201a8"
             ],
             [
              0.3333333333333333,
              "#9c179e"
             ],
             [
              0.4444444444444444,
              "#bd3786"
             ],
             [
              0.5555555555555556,
              "#d8576b"
             ],
             [
              0.6666666666666666,
              "#ed7953"
             ],
             [
              0.7777777777777778,
              "#fb9f3a"
             ],
             [
              0.8888888888888888,
              "#fdca26"
             ],
             [
              1,
              "#f0f921"
             ]
            ],
            "type": "heatmap"
           }
          ],
          "heatmapgl": [
           {
            "colorbar": {
             "outlinewidth": 0,
             "ticks": ""
            },
            "colorscale": [
             [
              0,
              "#0d0887"
             ],
             [
              0.1111111111111111,
              "#46039f"
             ],
             [
              0.2222222222222222,
              "#7201a8"
             ],
             [
              0.3333333333333333,
              "#9c179e"
             ],
             [
              0.4444444444444444,
              "#bd3786"
             ],
             [
              0.5555555555555556,
              "#d8576b"
             ],
             [
              0.6666666666666666,
              "#ed7953"
             ],
             [
              0.7777777777777778,
              "#fb9f3a"
             ],
             [
              0.8888888888888888,
              "#fdca26"
             ],
             [
              1,
              "#f0f921"
             ]
            ],
            "type": "heatmapgl"
           }
          ],
          "histogram": [
           {
            "marker": {
             "pattern": {
              "fillmode": "overlay",
              "size": 10,
              "solidity": 0.2
             }
            },
            "type": "histogram"
           }
          ],
          "histogram2d": [
           {
            "colorbar": {
             "outlinewidth": 0,
             "ticks": ""
            },
            "colorscale": [
             [
              0,
              "#0d0887"
             ],
             [
              0.1111111111111111,
              "#46039f"
             ],
             [
              0.2222222222222222,
              "#7201a8"
             ],
             [
              0.3333333333333333,
              "#9c179e"
             ],
             [
              0.4444444444444444,
              "#bd3786"
             ],
             [
              0.5555555555555556,
              "#d8576b"
             ],
             [
              0.6666666666666666,
              "#ed7953"
             ],
             [
              0.7777777777777778,
              "#fb9f3a"
             ],
             [
              0.8888888888888888,
              "#fdca26"
             ],
             [
              1,
              "#f0f921"
             ]
            ],
            "type": "histogram2d"
           }
          ],
          "histogram2dcontour": [
           {
            "colorbar": {
             "outlinewidth": 0,
             "ticks": ""
            },
            "colorscale": [
             [
              0,
              "#0d0887"
             ],
             [
              0.1111111111111111,
              "#46039f"
             ],
             [
              0.2222222222222222,
              "#7201a8"
             ],
             [
              0.3333333333333333,
              "#9c179e"
             ],
             [
              0.4444444444444444,
              "#bd3786"
             ],
             [
              0.5555555555555556,
              "#d8576b"
             ],
             [
              0.6666666666666666,
              "#ed7953"
             ],
             [
              0.7777777777777778,
              "#fb9f3a"
             ],
             [
              0.8888888888888888,
              "#fdca26"
             ],
             [
              1,
              "#f0f921"
             ]
            ],
            "type": "histogram2dcontour"
           }
          ],
          "mesh3d": [
           {
            "colorbar": {
             "outlinewidth": 0,
             "ticks": ""
            },
            "type": "mesh3d"
           }
          ],
          "parcoords": [
           {
            "line": {
             "colorbar": {
              "outlinewidth": 0,
              "ticks": ""
             }
            },
            "type": "parcoords"
           }
          ],
          "pie": [
           {
            "automargin": true,
            "type": "pie"
           }
          ],
          "scatter": [
           {
            "fillpattern": {
             "fillmode": "overlay",
             "size": 10,
             "solidity": 0.2
            },
            "type": "scatter"
           }
          ],
          "scatter3d": [
           {
            "line": {
             "colorbar": {
              "outlinewidth": 0,
              "ticks": ""
             }
            },
            "marker": {
             "colorbar": {
              "outlinewidth": 0,
              "ticks": ""
             }
            },
            "type": "scatter3d"
           }
          ],
          "scattercarpet": [
           {
            "marker": {
             "colorbar": {
              "outlinewidth": 0,
              "ticks": ""
             }
            },
            "type": "scattercarpet"
           }
          ],
          "scattergeo": [
           {
            "marker": {
             "colorbar": {
              "outlinewidth": 0,
              "ticks": ""
             }
            },
            "type": "scattergeo"
           }
          ],
          "scattergl": [
           {
            "marker": {
             "colorbar": {
              "outlinewidth": 0,
              "ticks": ""
             }
            },
            "type": "scattergl"
           }
          ],
          "scattermapbox": [
           {
            "marker": {
             "colorbar": {
              "outlinewidth": 0,
              "ticks": ""
             }
            },
            "type": "scattermapbox"
           }
          ],
          "scatterpolar": [
           {
            "marker": {
             "colorbar": {
              "outlinewidth": 0,
              "ticks": ""
             }
            },
            "type": "scatterpolar"
           }
          ],
          "scatterpolargl": [
           {
            "marker": {
             "colorbar": {
              "outlinewidth": 0,
              "ticks": ""
             }
            },
            "type": "scatterpolargl"
           }
          ],
          "scatterternary": [
           {
            "marker": {
             "colorbar": {
              "outlinewidth": 0,
              "ticks": ""
             }
            },
            "type": "scatterternary"
           }
          ],
          "surface": [
           {
            "colorbar": {
             "outlinewidth": 0,
             "ticks": ""
            },
            "colorscale": [
             [
              0,
              "#0d0887"
             ],
             [
              0.1111111111111111,
              "#46039f"
             ],
             [
              0.2222222222222222,
              "#7201a8"
             ],
             [
              0.3333333333333333,
              "#9c179e"
             ],
             [
              0.4444444444444444,
              "#bd3786"
             ],
             [
              0.5555555555555556,
              "#d8576b"
             ],
             [
              0.6666666666666666,
              "#ed7953"
             ],
             [
              0.7777777777777778,
              "#fb9f3a"
             ],
             [
              0.8888888888888888,
              "#fdca26"
             ],
             [
              1,
              "#f0f921"
             ]
            ],
            "type": "surface"
           }
          ],
          "table": [
           {
            "cells": {
             "fill": {
              "color": "#EBF0F8"
             },
             "line": {
              "color": "white"
             }
            },
            "header": {
             "fill": {
              "color": "#C8D4E3"
             },
             "line": {
              "color": "white"
             }
            },
            "type": "table"
           }
          ]
         },
         "layout": {
          "annotationdefaults": {
           "arrowcolor": "#2a3f5f",
           "arrowhead": 0,
           "arrowwidth": 1
          },
          "autotypenumbers": "strict",
          "coloraxis": {
           "colorbar": {
            "outlinewidth": 0,
            "ticks": ""
           }
          },
          "colorscale": {
           "diverging": [
            [
             0,
             "#8e0152"
            ],
            [
             0.1,
             "#c51b7d"
            ],
            [
             0.2,
             "#de77ae"
            ],
            [
             0.3,
             "#f1b6da"
            ],
            [
             0.4,
             "#fde0ef"
            ],
            [
             0.5,
             "#f7f7f7"
            ],
            [
             0.6,
             "#e6f5d0"
            ],
            [
             0.7,
             "#b8e186"
            ],
            [
             0.8,
             "#7fbc41"
            ],
            [
             0.9,
             "#4d9221"
            ],
            [
             1,
             "#276419"
            ]
           ],
           "sequential": [
            [
             0,
             "#0d0887"
            ],
            [
             0.1111111111111111,
             "#46039f"
            ],
            [
             0.2222222222222222,
             "#7201a8"
            ],
            [
             0.3333333333333333,
             "#9c179e"
            ],
            [
             0.4444444444444444,
             "#bd3786"
            ],
            [
             0.5555555555555556,
             "#d8576b"
            ],
            [
             0.6666666666666666,
             "#ed7953"
            ],
            [
             0.7777777777777778,
             "#fb9f3a"
            ],
            [
             0.8888888888888888,
             "#fdca26"
            ],
            [
             1,
             "#f0f921"
            ]
           ],
           "sequentialminus": [
            [
             0,
             "#0d0887"
            ],
            [
             0.1111111111111111,
             "#46039f"
            ],
            [
             0.2222222222222222,
             "#7201a8"
            ],
            [
             0.3333333333333333,
             "#9c179e"
            ],
            [
             0.4444444444444444,
             "#bd3786"
            ],
            [
             0.5555555555555556,
             "#d8576b"
            ],
            [
             0.6666666666666666,
             "#ed7953"
            ],
            [
             0.7777777777777778,
             "#fb9f3a"
            ],
            [
             0.8888888888888888,
             "#fdca26"
            ],
            [
             1,
             "#f0f921"
            ]
           ]
          },
          "colorway": [
           "#636efa",
           "#EF553B",
           "#00cc96",
           "#ab63fa",
           "#FFA15A",
           "#19d3f3",
           "#FF6692",
           "#B6E880",
           "#FF97FF",
           "#FECB52"
          ],
          "font": {
           "color": "#2a3f5f"
          },
          "geo": {
           "bgcolor": "white",
           "lakecolor": "white",
           "landcolor": "#E5ECF6",
           "showlakes": true,
           "showland": true,
           "subunitcolor": "white"
          },
          "hoverlabel": {
           "align": "left"
          },
          "hovermode": "closest",
          "mapbox": {
           "style": "light"
          },
          "paper_bgcolor": "white",
          "plot_bgcolor": "#E5ECF6",
          "polar": {
           "angularaxis": {
            "gridcolor": "white",
            "linecolor": "white",
            "ticks": ""
           },
           "bgcolor": "#E5ECF6",
           "radialaxis": {
            "gridcolor": "white",
            "linecolor": "white",
            "ticks": ""
           }
          },
          "scene": {
           "xaxis": {
            "backgroundcolor": "#E5ECF6",
            "gridcolor": "white",
            "gridwidth": 2,
            "linecolor": "white",
            "showbackground": true,
            "ticks": "",
            "zerolinecolor": "white"
           },
           "yaxis": {
            "backgroundcolor": "#E5ECF6",
            "gridcolor": "white",
            "gridwidth": 2,
            "linecolor": "white",
            "showbackground": true,
            "ticks": "",
            "zerolinecolor": "white"
           },
           "zaxis": {
            "backgroundcolor": "#E5ECF6",
            "gridcolor": "white",
            "gridwidth": 2,
            "linecolor": "white",
            "showbackground": true,
            "ticks": "",
            "zerolinecolor": "white"
           }
          },
          "shapedefaults": {
           "line": {
            "color": "#2a3f5f"
           }
          },
          "ternary": {
           "aaxis": {
            "gridcolor": "white",
            "linecolor": "white",
            "ticks": ""
           },
           "baxis": {
            "gridcolor": "white",
            "linecolor": "white",
            "ticks": ""
           },
           "bgcolor": "#E5ECF6",
           "caxis": {
            "gridcolor": "white",
            "linecolor": "white",
            "ticks": ""
           }
          },
          "title": {
           "x": 0.05
          },
          "xaxis": {
           "automargin": true,
           "gridcolor": "white",
           "linecolor": "white",
           "ticks": "",
           "title": {
            "standoff": 15
           },
           "zerolinecolor": "white",
           "zerolinewidth": 2
          },
          "yaxis": {
           "automargin": true,
           "gridcolor": "white",
           "linecolor": "white",
           "ticks": "",
           "title": {
            "standoff": 15
           },
           "zerolinecolor": "white",
           "zerolinewidth": 2
          }
         }
        },
        "title": {
         "text": "Diagrama de Gantt: Apertura de Nuevo Hotel"
        },
        "xaxis": {
         "anchor": "y",
         "domain": [
          0,
          1
         ],
         "title": {
          "text": "Fecha"
         },
         "type": "date"
        },
        "yaxis": {
         "anchor": "x",
         "categoryorder": "total ascending",
         "domain": [
          0,
          1
         ],
         "title": {
          "text": "Tarea"
         }
        }
       }
      }
     },
     "metadata": {},
     "output_type": "display_data"
    }
   ],
   "source": [
    "import pandas as pd\n",
    "import plotly.express as px\n",
    "\n",
    "# Crear un DataFrame con las tareas del proyecto y sus fechas\n",
    "data = {\n",
    "    'Task': ['Revisión Datos', 'Limpieza de Datos', 'Seleccion Variables', 'DA', 'Modelación', 'Forecasting'],\n",
    "    'Start': ['2023-01-01', '2023-02-01', '2023-03-01', '2023-05-01', '2023-07-01', '2023-08-01'],\n",
    "    'Finish': ['2023-01-31', '2023-02-28', '2023-06-30', '2023-07-31', '2023-08-31', '2023-09-30']\n",
    "}\n",
    "\n",
    "df = pd.DataFrame(data)\n",
    "\n",
    "# Convertir las fechas a formato datetime\n",
    "df['Start'] = pd.to_datetime(df['Start'])\n",
    "df['Finish'] = pd.to_datetime(df['Finish'])\n",
    "\n",
    "# Crear el diagrama de Gantt con Plotly\n",
    "fig = px.timeline(df, x_start='Start', x_end='Finish', y='Task', title='Diagrama de Gantt: Apertura de Nuevo Hotel')\n",
    "fig.update_yaxes(categoryorder='total ascending')\n",
    "fig.update_layout(xaxis_title='Fecha', yaxis_title='Tarea', showlegend=False)\n",
    "\n",
    "# Mostrar el gráfico\n",
    "fig.show()"
   ]
  },
  {
   "attachments": {},
   "cell_type": "markdown",
   "metadata": {},
   "source": [
    "# `Referencia`\n",
    "\n",
    "- [Documentación Matplotlib](https://matplotlib.org/stable/tutorials/index.html)\n",
    "- [Documentación Plotly](https://plotly.com/python/)\n",
    "- [Documentación Seaborn](https://seaborn.pydata.org/tutorial.html)"
   ]
  }
 ],
 "metadata": {
  "kernelspec": {
   "display_name": "myenv",
   "language": "python",
   "name": "python3"
  },
  "language_info": {
   "codemirror_mode": {
    "name": "ipython",
    "version": 3
   },
   "file_extension": ".py",
   "mimetype": "text/x-python",
   "name": "python",
   "nbconvert_exporter": "python",
   "pygments_lexer": "ipython3",
   "version": "3.10.15"
  },
  "orig_nbformat": 4
 },
 "nbformat": 4,
 "nbformat_minor": 2
}
